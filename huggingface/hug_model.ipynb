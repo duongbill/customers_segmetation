{
 "cells": [
  {
   "cell_type": "code",
   "execution_count": 1,
   "id": "0de91a2b",
   "metadata": {},
   "outputs": [
    {
     "name": "stdout",
     "output_type": "stream",
     "text": [
      "Collecting huggingface_hub\n",
      "  Downloading huggingface_hub-0.32.0-py3-none-any.whl.metadata (14 kB)\n",
      "Collecting transformers\n",
      "  Downloading transformers-4.52.3-py3-none-any.whl.metadata (40 kB)\n",
      "Requirement already satisfied: filelock in c:\\users\\haidu\\anaconda3\\lib\\site-packages (from huggingface_hub) (3.13.1)\n",
      "Requirement already satisfied: fsspec>=2023.5.0 in c:\\users\\haidu\\anaconda3\\lib\\site-packages (from huggingface_hub) (2024.6.1)\n",
      "Requirement already satisfied: packaging>=20.9 in c:\\users\\haidu\\anaconda3\\lib\\site-packages (from huggingface_hub) (24.1)\n",
      "Requirement already satisfied: pyyaml>=5.1 in c:\\users\\haidu\\anaconda3\\lib\\site-packages (from huggingface_hub) (6.0.1)\n",
      "Requirement already satisfied: requests in c:\\users\\haidu\\anaconda3\\lib\\site-packages (from huggingface_hub) (2.32.3)\n",
      "Requirement already satisfied: tqdm>=4.42.1 in c:\\users\\haidu\\anaconda3\\lib\\site-packages (from huggingface_hub) (4.66.5)\n",
      "Requirement already satisfied: typing-extensions>=3.7.4.3 in c:\\users\\haidu\\anaconda3\\lib\\site-packages (from huggingface_hub) (4.11.0)\n",
      "Requirement already satisfied: numpy>=1.17 in c:\\users\\haidu\\anaconda3\\lib\\site-packages (from transformers) (1.26.4)\n",
      "Requirement already satisfied: regex!=2019.12.17 in c:\\users\\haidu\\anaconda3\\lib\\site-packages (from transformers) (2024.9.11)\n",
      "Collecting tokenizers<0.22,>=0.21 (from transformers)\n",
      "  Downloading tokenizers-0.21.1-cp39-abi3-win_amd64.whl.metadata (6.9 kB)\n",
      "Collecting safetensors>=0.4.3 (from transformers)\n",
      "  Downloading safetensors-0.5.3-cp38-abi3-win_amd64.whl.metadata (3.9 kB)\n",
      "Requirement already satisfied: colorama in c:\\users\\haidu\\anaconda3\\lib\\site-packages (from tqdm>=4.42.1->huggingface_hub) (0.4.6)\n",
      "Requirement already satisfied: charset-normalizer<4,>=2 in c:\\users\\haidu\\anaconda3\\lib\\site-packages (from requests->huggingface_hub) (3.3.2)\n",
      "Requirement already satisfied: idna<4,>=2.5 in c:\\users\\haidu\\anaconda3\\lib\\site-packages (from requests->huggingface_hub) (3.7)\n",
      "Requirement already satisfied: urllib3<3,>=1.21.1 in c:\\users\\haidu\\anaconda3\\lib\\site-packages (from requests->huggingface_hub) (2.2.3)\n",
      "Requirement already satisfied: certifi>=2017.4.17 in c:\\users\\haidu\\anaconda3\\lib\\site-packages (from requests->huggingface_hub) (2025.1.31)\n",
      "Downloading huggingface_hub-0.32.0-py3-none-any.whl (509 kB)\n",
      "Downloading transformers-4.52.3-py3-none-any.whl (10.5 MB)\n",
      "   ---------------------------------------- 0.0/10.5 MB ? eta -:--:--\n",
      "   ---------------------------------------- 0.0/10.5 MB ? eta -:--:--\n",
      "   ---------------------------------------- 0.0/10.5 MB ? eta -:--:--\n",
      "   ---------------------------------------- 0.0/10.5 MB ? eta -:--:--\n",
      "   - -------------------------------------- 0.3/10.5 MB ? eta -:--:--\n",
      "   - -------------------------------------- 0.3/10.5 MB ? eta -:--:--\n",
      "   - -------------------------------------- 0.3/10.5 MB ? eta -:--:--\n",
      "   - -------------------------------------- 0.3/10.5 MB ? eta -:--:--\n",
      "   -- ------------------------------------- 0.5/10.5 MB 342.7 kB/s eta 0:00:29\n",
      "   -- ------------------------------------- 0.5/10.5 MB 342.7 kB/s eta 0:00:29\n",
      "   -- ------------------------------------- 0.5/10.5 MB 342.7 kB/s eta 0:00:29\n",
      "   --- ------------------------------------ 0.8/10.5 MB 364.8 kB/s eta 0:00:27\n",
      "   --- ------------------------------------ 0.8/10.5 MB 364.8 kB/s eta 0:00:27\n",
      "   --- ------------------------------------ 0.8/10.5 MB 364.8 kB/s eta 0:00:27\n",
      "   ---- ----------------------------------- 1.0/10.5 MB 402.7 kB/s eta 0:00:24\n",
      "   ---- ----------------------------------- 1.0/10.5 MB 402.7 kB/s eta 0:00:24\n",
      "   ----- ---------------------------------- 1.3/10.5 MB 430.3 kB/s eta 0:00:22\n",
      "   ----- ---------------------------------- 1.3/10.5 MB 430.3 kB/s eta 0:00:22\n",
      "   ------ --------------------------------- 1.6/10.5 MB 455.9 kB/s eta 0:00:20\n",
      "   ------ --------------------------------- 1.6/10.5 MB 455.9 kB/s eta 0:00:20\n",
      "   ------- -------------------------------- 1.8/10.5 MB 479.4 kB/s eta 0:00:18\n",
      "   ------- -------------------------------- 1.8/10.5 MB 479.4 kB/s eta 0:00:18\n",
      "   -------- ------------------------------- 2.1/10.5 MB 487.4 kB/s eta 0:00:18\n",
      "   -------- ------------------------------- 2.1/10.5 MB 487.4 kB/s eta 0:00:18\n",
      "   -------- ------------------------------- 2.1/10.5 MB 487.4 kB/s eta 0:00:18\n",
      "   --------- ------------------------------ 2.4/10.5 MB 491.7 kB/s eta 0:00:17\n",
      "   --------- ------------------------------ 2.4/10.5 MB 491.7 kB/s eta 0:00:17\n",
      "   ---------- ----------------------------- 2.6/10.5 MB 500.1 kB/s eta 0:00:16\n",
      "   ---------- ----------------------------- 2.6/10.5 MB 500.1 kB/s eta 0:00:16\n",
      "   ----------- ---------------------------- 2.9/10.5 MB 506.9 kB/s eta 0:00:15\n",
      "   ----------- ---------------------------- 2.9/10.5 MB 506.9 kB/s eta 0:00:15\n",
      "   ------------ --------------------------- 3.1/10.5 MB 518.4 kB/s eta 0:00:15\n",
      "   ------------ --------------------------- 3.1/10.5 MB 518.4 kB/s eta 0:00:15\n",
      "   ------------- -------------------------- 3.4/10.5 MB 529.9 kB/s eta 0:00:14\n",
      "   -------------- ------------------------- 3.7/10.5 MB 544.0 kB/s eta 0:00:13\n",
      "   -------------- ------------------------- 3.7/10.5 MB 544.0 kB/s eta 0:00:13\n",
      "   --------------- ------------------------ 3.9/10.5 MB 556.7 kB/s eta 0:00:12\n",
      "   ---------------- ----------------------- 4.2/10.5 MB 568.1 kB/s eta 0:00:12\n",
      "   ---------------- ----------------------- 4.2/10.5 MB 568.1 kB/s eta 0:00:12\n",
      "   ----------------- ---------------------- 4.5/10.5 MB 579.8 kB/s eta 0:00:11\n",
      "   ------------------ --------------------- 4.7/10.5 MB 590.6 kB/s eta 0:00:10\n",
      "   ------------------ --------------------- 4.7/10.5 MB 590.6 kB/s eta 0:00:10\n",
      "   ------------------- -------------------- 5.0/10.5 MB 600.4 kB/s eta 0:00:10\n",
      "   -------------------- ------------------- 5.2/10.5 MB 610.7 kB/s eta 0:00:09\n",
      "   -------------------- ------------------- 5.2/10.5 MB 610.7 kB/s eta 0:00:09\n",
      "   --------------------- ------------------ 5.5/10.5 MB 616.8 kB/s eta 0:00:09\n",
      "   ---------------------- ----------------- 5.8/10.5 MB 624.7 kB/s eta 0:00:08\n",
      "   ---------------------- ----------------- 5.8/10.5 MB 624.7 kB/s eta 0:00:08\n",
      "   ----------------------- ---------------- 6.0/10.5 MB 628.8 kB/s eta 0:00:08\n",
      "   ----------------------- ---------------- 6.0/10.5 MB 628.8 kB/s eta 0:00:08\n",
      "   ------------------------ --------------- 6.3/10.5 MB 635.7 kB/s eta 0:00:07\n",
      "   ------------------------- -------------- 6.6/10.5 MB 644.3 kB/s eta 0:00:07\n",
      "   ------------------------- -------------- 6.6/10.5 MB 644.3 kB/s eta 0:00:07\n",
      "   -------------------------- ------------- 6.8/10.5 MB 650.3 kB/s eta 0:00:06\n",
      "   --------------------------- ------------ 7.1/10.5 MB 656.0 kB/s eta 0:00:06\n",
      "   ---------------------------- ----------- 7.3/10.5 MB 661.3 kB/s eta 0:00:05\n",
      "   ---------------------------- ----------- 7.3/10.5 MB 661.3 kB/s eta 0:00:05\n",
      "   ----------------------------- ---------- 7.6/10.5 MB 663.5 kB/s eta 0:00:05\n",
      "   ----------------------------- ---------- 7.6/10.5 MB 663.5 kB/s eta 0:00:05\n",
      "   ------------------------------ --------- 7.9/10.5 MB 668.3 kB/s eta 0:00:04\n",
      "   ------------------------------- -------- 8.1/10.5 MB 675.6 kB/s eta 0:00:04\n",
      "   -------------------------------- ------- 8.4/10.5 MB 683.5 kB/s eta 0:00:04\n",
      "   --------------------------------- ------ 8.7/10.5 MB 691.0 kB/s eta 0:00:03\n",
      "   --------------------------------- ------ 8.7/10.5 MB 691.0 kB/s eta 0:00:03\n",
      "   ---------------------------------- ----- 8.9/10.5 MB 697.3 kB/s eta 0:00:03\n",
      "   ----------------------------------- ---- 9.2/10.5 MB 700.8 kB/s eta 0:00:02\n",
      "   ----------------------------------- ---- 9.2/10.5 MB 700.8 kB/s eta 0:00:02\n",
      "   ------------------------------------ --- 9.4/10.5 MB 705.0 kB/s eta 0:00:02\n",
      "   ------------------------------------- -- 9.7/10.5 MB 709.8 kB/s eta 0:00:02\n",
      "   -------------------------------------- - 10.0/10.5 MB 717.7 kB/s eta 0:00:01\n",
      "   ---------------------------------------  10.2/10.5 MB 727.0 kB/s eta 0:00:01\n",
      "   ---------------------------------------- 10.5/10.5 MB 733.4 kB/s eta 0:00:00\n",
      "Downloading safetensors-0.5.3-cp38-abi3-win_amd64.whl (308 kB)\n",
      "Downloading tokenizers-0.21.1-cp39-abi3-win_amd64.whl (2.4 MB)\n",
      "   ---------------------------------------- 0.0/2.4 MB ? eta -:--:--\n",
      "   ---- ----------------------------------- 0.3/2.4 MB ? eta -:--:--\n",
      "   -------- ------------------------------- 0.5/2.4 MB 1.2 MB/s eta 0:00:02\n",
      "   ------------ --------------------------- 0.8/2.4 MB 1.2 MB/s eta 0:00:02\n",
      "   ----------------- ---------------------- 1.0/2.4 MB 1.3 MB/s eta 0:00:02\n",
      "   --------------------- ------------------ 1.3/2.4 MB 1.4 MB/s eta 0:00:01\n",
      "   ------------------------------ --------- 1.8/2.4 MB 1.5 MB/s eta 0:00:01\n",
      "   ---------------------------------- ----- 2.1/2.4 MB 1.5 MB/s eta 0:00:01\n",
      "   ---------------------------------------- 2.4/2.4 MB 1.5 MB/s eta 0:00:00\n",
      "Installing collected packages: safetensors, huggingface_hub, tokenizers, transformers\n",
      "Successfully installed huggingface_hub-0.32.0 safetensors-0.5.3 tokenizers-0.21.1 transformers-4.52.3\n",
      "Note: you may need to restart the kernel to use updated packages.\n"
     ]
    }
   ],
   "source": [
    "pip install huggingface_hub transformers"
   ]
  },
  {
   "cell_type": "code",
   "execution_count": 4,
   "id": "d7373612",
   "metadata": {},
   "outputs": [],
   "source": [
    "from huggingface_hub import login\n",
    "\n",
    "# login(token=\"\")\n",
    "# https://huggingface.co/settings/tokens"
   ]
  },
  {
   "cell_type": "code",
   "execution_count": 5,
   "id": "8ea07afd",
   "metadata": {},
   "outputs": [
    {
     "name": "stdout",
     "output_type": "stream",
     "text": [
      "duonggbill\n"
     ]
    }
   ],
   "source": [
    "from huggingface_hub import whoami\n",
    "\n",
    "print(whoami()['name'])  # Trả về username của bạn"
   ]
  },
  {
   "cell_type": "code",
   "execution_count": 6,
   "id": "37d23860",
   "metadata": {},
   "outputs": [
    {
     "data": {
      "text/plain": [
       "RepoUrl('https://huggingface.co/duonggbill/dbill-customer-model', endpoint='https://huggingface.co', repo_type='model', repo_id='duonggbill/dbill-customer-model')"
      ]
     },
     "execution_count": 6,
     "metadata": {},
     "output_type": "execute_result"
    }
   ],
   "source": [
    "from huggingface_hub import HfApi\n",
    "\n",
    "api = HfApi()\n",
    "\n",
    "api.create_repo(repo_id=\"duonggbill/dbill-customer-model\", private=False)"
   ]
  },
  {
   "cell_type": "code",
   "execution_count": 7,
   "id": "45982a26",
   "metadata": {},
   "outputs": [
    {
     "data": {
      "application/vnd.jupyter.widget-view+json": {
       "model_id": "553fb654cfa84106bd1fedb39dd4b64c",
       "version_major": 2,
       "version_minor": 0
      },
      "text/plain": [
       "category_encoder.joblib:   0%|          | 0.00/600 [00:00<?, ?B/s]"
      ]
     },
     "metadata": {},
     "output_type": "display_data"
    },
    {
     "data": {
      "application/vnd.jupyter.widget-view+json": {
       "model_id": "fb9530086d8a4eb481823ec69ab2a7b1",
       "version_major": 2,
       "version_minor": 0
      },
      "text/plain": [
       "features.joblib:   0%|          | 0.00/138 [00:00<?, ?B/s]"
      ]
     },
     "metadata": {},
     "output_type": "display_data"
    },
    {
     "data": {
      "application/vnd.jupyter.widget-view+json": {
       "model_id": "d8022784e15f4bbf9bffab9929b9e4c3",
       "version_major": 2,
       "version_minor": 0
      },
      "text/plain": [
       "cluster_info.joblib:   0%|          | 0.00/3.08k [00:00<?, ?B/s]"
      ]
     },
     "metadata": {},
     "output_type": "display_data"
    },
    {
     "data": {
      "application/vnd.jupyter.widget-view+json": {
       "model_id": "8db0b70e2ba54ad09c88468093930506",
       "version_major": 2,
       "version_minor": 0
      },
      "text/plain": [
       "cluster_visualization.png:   0%|          | 0.00/370k [00:00<?, ?B/s]"
      ]
     },
     "metadata": {},
     "output_type": "display_data"
    },
    {
     "data": {
      "application/vnd.jupyter.widget-view+json": {
       "model_id": "fc364f1f58334b938512773810c951b2",
       "version_major": 2,
       "version_minor": 0
      },
      "text/plain": [
       "gender_encoder.joblib:   0%|          | 0.00/554 [00:00<?, ?B/s]"
      ]
     },
     "metadata": {},
     "output_type": "display_data"
    },
    {
     "data": {
      "application/vnd.jupyter.widget-view+json": {
       "model_id": "eda4856e2841409d99d5d864ce3a3b8c",
       "version_major": 2,
       "version_minor": 0
      },
      "text/plain": [
       "Upload 8 LFS files:   0%|          | 0/8 [00:00<?, ?it/s]"
      ]
     },
     "metadata": {},
     "output_type": "display_data"
    },
    {
     "data": {
      "application/vnd.jupyter.widget-view+json": {
       "model_id": "52111db3ca104666980168d2996673ba",
       "version_major": 2,
       "version_minor": 0
      },
      "text/plain": [
       "kmeans.joblib:   0%|          | 0.00/4.95k [00:00<?, ?B/s]"
      ]
     },
     "metadata": {},
     "output_type": "display_data"
    },
    {
     "data": {
      "application/vnd.jupyter.widget-view+json": {
       "model_id": "b6e1dc5210bc44d2b7477c671d8f6bdd",
       "version_major": 2,
       "version_minor": 0
      },
      "text/plain": [
       "rf_classifier.joblib:   0%|          | 0.00/3.31M [00:00<?, ?B/s]"
      ]
     },
     "metadata": {},
     "output_type": "display_data"
    },
    {
     "data": {
      "application/vnd.jupyter.widget-view+json": {
       "model_id": "49fa16ee71094bcdaadca5136c676720",
       "version_major": 2,
       "version_minor": 0
      },
      "text/plain": [
       "scaler.joblib:   0%|          | 0.00/1.22k [00:00<?, ?B/s]"
      ]
     },
     "metadata": {},
     "output_type": "display_data"
    },
    {
     "data": {
      "text/plain": [
       "CommitInfo(commit_url='https://huggingface.co/duonggbill/dbill-customer-model/commit/db0b86f55c019371ef1c940ba766ade8f4403c85', commit_message='Upload folder using huggingface_hub', commit_description='', oid='db0b86f55c019371ef1c940ba766ade8f4403c85', pr_url=None, repo_url=RepoUrl('https://huggingface.co/duonggbill/dbill-customer-model', endpoint='https://huggingface.co', repo_type='model', repo_id='duonggbill/dbill-customer-model'), pr_revision=None, pr_num=None)"
      ]
     },
     "execution_count": 7,
     "metadata": {},
     "output_type": "execute_result"
    }
   ],
   "source": [
    "from huggingface_hub import upload_folder\n",
    "\n",
    "upload_folder(\n",
    "    folder_path=\"models\",  # Thư mục chứa các model đã huấn luyện\n",
    "    repo_id=\"duonggbill/dbill-customer-model\",\n",
    "    repo_type=\"model\"\n",
    ")\n"
   ]
  },
  {
   "cell_type": "code",
   "execution_count": null,
   "id": "8f5cccd2",
   "metadata": {},
   "outputs": [],
   "source": []
  }
 ],
 "metadata": {
  "kernelspec": {
   "display_name": "base",
   "language": "python",
   "name": "python3"
  },
  "language_info": {
   "codemirror_mode": {
    "name": "ipython",
    "version": 3
   },
   "file_extension": ".py",
   "mimetype": "text/x-python",
   "name": "python",
   "nbconvert_exporter": "python",
   "pygments_lexer": "ipython3",
   "version": "3.12.7"
  }
 },
 "nbformat": 4,
 "nbformat_minor": 5
}
